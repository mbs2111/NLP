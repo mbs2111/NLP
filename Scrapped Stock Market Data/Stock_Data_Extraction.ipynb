{
 "cells": [
  {
   "cell_type": "code",
   "execution_count": 1,
   "metadata": {},
   "outputs": [],
   "source": [
    "import yfinance as yf\n",
    "import pandas as pd"
   ]
  },
  {
   "cell_type": "code",
   "execution_count": 2,
   "metadata": {},
   "outputs": [],
   "source": [
    "tickerStrings = ['JSWSTEEL.NS','TATAMOTORS.NS','BAJAJFINSV.NS','TCS.NS','INFY.NS','TECHM.NS','NESTLEIND.NS','ASIANPAINT.NS','RELIANCE.NS','HDFCBANK.NS']"
   ]
  },
  {
   "cell_type": "code",
   "execution_count": 3,
   "metadata": {},
   "outputs": [
    {
     "name": "stdout",
     "output_type": "stream",
     "text": [
      "[*********************100%***********************]  1 of 1 completed\n",
      "[*********************100%***********************]  1 of 1 completed\n",
      "[*********************100%***********************]  1 of 1 completed\n",
      "[*********************100%***********************]  1 of 1 completed\n",
      "[*********************100%***********************]  1 of 1 completed\n",
      "[*********************100%***********************]  1 of 1 completed\n",
      "[*********************100%***********************]  1 of 1 completed\n",
      "[*********************100%***********************]  1 of 1 completed\n",
      "[*********************100%***********************]  1 of 1 completed\n",
      "[*********************100%***********************]  1 of 1 completed\n"
     ]
    }
   ],
   "source": [
    "for ticker in tickerStrings:\n",
    "    data = yf.download(ticker, group_by=\"Ticker\", period=\"5y\", auto_adjust = True)\n",
    "    data['ticker'] = ticker  # add this column becasue the dataframe doesn't contain a column with the ticker\n",
    "    data.to_csv(f'ticker_{ticker}.csv')  # ticker_AAPL.csv for example"
   ]
  },
  {
   "cell_type": "code",
   "execution_count": 4,
   "metadata": {},
   "outputs": [],
   "source": [
    "ticker = 'JSWSTEEL.NS'\n",
    "st_Data = pd.read_csv(f'ticker_{ticker}.csv')"
   ]
  },
  {
   "cell_type": "code",
   "execution_count": 5,
   "metadata": {},
   "outputs": [
    {
     "data": {
      "text/html": [
       "<div>\n",
       "<style scoped>\n",
       "    .dataframe tbody tr th:only-of-type {\n",
       "        vertical-align: middle;\n",
       "    }\n",
       "\n",
       "    .dataframe tbody tr th {\n",
       "        vertical-align: top;\n",
       "    }\n",
       "\n",
       "    .dataframe thead th {\n",
       "        text-align: right;\n",
       "    }\n",
       "</style>\n",
       "<table border=\"1\" class=\"dataframe\">\n",
       "  <thead>\n",
       "    <tr style=\"text-align: right;\">\n",
       "      <th></th>\n",
       "      <th>Date</th>\n",
       "      <th>Open</th>\n",
       "      <th>High</th>\n",
       "      <th>Low</th>\n",
       "      <th>Close</th>\n",
       "      <th>Volume</th>\n",
       "      <th>ticker</th>\n",
       "    </tr>\n",
       "  </thead>\n",
       "  <tbody>\n",
       "    <tr>\n",
       "      <th>0</th>\n",
       "      <td>2016-04-08</td>\n",
       "      <td>116.335269</td>\n",
       "      <td>117.341318</td>\n",
       "      <td>115.708780</td>\n",
       "      <td>116.463310</td>\n",
       "      <td>4714000</td>\n",
       "      <td>JSWSTEEL.NS</td>\n",
       "    </tr>\n",
       "    <tr>\n",
       "      <th>1</th>\n",
       "      <td>2016-04-11</td>\n",
       "      <td>116.829147</td>\n",
       "      <td>119.211645</td>\n",
       "      <td>116.152355</td>\n",
       "      <td>118.873253</td>\n",
       "      <td>6883290</td>\n",
       "      <td>JSWSTEEL.NS</td>\n",
       "    </tr>\n",
       "    <tr>\n",
       "      <th>2</th>\n",
       "      <td>2016-04-12</td>\n",
       "      <td>118.822950</td>\n",
       "      <td>119.806127</td>\n",
       "      <td>117.816915</td>\n",
       "      <td>118.685768</td>\n",
       "      <td>7246450</td>\n",
       "      <td>JSWSTEEL.NS</td>\n",
       "    </tr>\n",
       "    <tr>\n",
       "      <th>3</th>\n",
       "      <td>2016-04-13</td>\n",
       "      <td>119.362535</td>\n",
       "      <td>120.633808</td>\n",
       "      <td>118.507400</td>\n",
       "      <td>120.135361</td>\n",
       "      <td>7360250</td>\n",
       "      <td>JSWSTEEL.NS</td>\n",
       "    </tr>\n",
       "    <tr>\n",
       "      <th>4</th>\n",
       "      <td>2016-04-18</td>\n",
       "      <td>120.011924</td>\n",
       "      <td>122.545330</td>\n",
       "      <td>119.563772</td>\n",
       "      <td>122.028587</td>\n",
       "      <td>5235820</td>\n",
       "      <td>JSWSTEEL.NS</td>\n",
       "    </tr>\n",
       "  </tbody>\n",
       "</table>\n",
       "</div>"
      ],
      "text/plain": [
       "         Date        Open        High         Low       Close   Volume  \\\n",
       "0  2016-04-08  116.335269  117.341318  115.708780  116.463310  4714000   \n",
       "1  2016-04-11  116.829147  119.211645  116.152355  118.873253  6883290   \n",
       "2  2016-04-12  118.822950  119.806127  117.816915  118.685768  7246450   \n",
       "3  2016-04-13  119.362535  120.633808  118.507400  120.135361  7360250   \n",
       "4  2016-04-18  120.011924  122.545330  119.563772  122.028587  5235820   \n",
       "\n",
       "        ticker  \n",
       "0  JSWSTEEL.NS  \n",
       "1  JSWSTEEL.NS  \n",
       "2  JSWSTEEL.NS  \n",
       "3  JSWSTEEL.NS  \n",
       "4  JSWSTEEL.NS  "
      ]
     },
     "execution_count": 5,
     "metadata": {},
     "output_type": "execute_result"
    }
   ],
   "source": [
    "st_Data.head()"
   ]
  },
  {
   "cell_type": "code",
   "execution_count": 6,
   "metadata": {},
   "outputs": [
    {
     "data": {
      "text/html": [
       "<div>\n",
       "<style scoped>\n",
       "    .dataframe tbody tr th:only-of-type {\n",
       "        vertical-align: middle;\n",
       "    }\n",
       "\n",
       "    .dataframe tbody tr th {\n",
       "        vertical-align: top;\n",
       "    }\n",
       "\n",
       "    .dataframe thead th {\n",
       "        text-align: right;\n",
       "    }\n",
       "</style>\n",
       "<table border=\"1\" class=\"dataframe\">\n",
       "  <thead>\n",
       "    <tr style=\"text-align: right;\">\n",
       "      <th></th>\n",
       "      <th>Date</th>\n",
       "      <th>Open</th>\n",
       "      <th>High</th>\n",
       "      <th>Low</th>\n",
       "      <th>Close</th>\n",
       "      <th>Volume</th>\n",
       "      <th>ticker</th>\n",
       "    </tr>\n",
       "  </thead>\n",
       "  <tbody>\n",
       "    <tr>\n",
       "      <th>1227</th>\n",
       "      <td>2021-04-01</td>\n",
       "      <td>470.549988</td>\n",
       "      <td>512.950012</td>\n",
       "      <td>470.000000</td>\n",
       "      <td>508.750000</td>\n",
       "      <td>35736230</td>\n",
       "      <td>JSWSTEEL.NS</td>\n",
       "    </tr>\n",
       "    <tr>\n",
       "      <th>1228</th>\n",
       "      <td>2021-04-05</td>\n",
       "      <td>513.500000</td>\n",
       "      <td>522.000000</td>\n",
       "      <td>503.200012</td>\n",
       "      <td>517.500000</td>\n",
       "      <td>29711225</td>\n",
       "      <td>JSWSTEEL.NS</td>\n",
       "    </tr>\n",
       "    <tr>\n",
       "      <th>1229</th>\n",
       "      <td>2021-04-06</td>\n",
       "      <td>523.000000</td>\n",
       "      <td>541.299988</td>\n",
       "      <td>520.650024</td>\n",
       "      <td>537.450012</td>\n",
       "      <td>26533367</td>\n",
       "      <td>JSWSTEEL.NS</td>\n",
       "    </tr>\n",
       "    <tr>\n",
       "      <th>1230</th>\n",
       "      <td>2021-04-07</td>\n",
       "      <td>539.250000</td>\n",
       "      <td>566.450012</td>\n",
       "      <td>533.200012</td>\n",
       "      <td>562.299988</td>\n",
       "      <td>20024702</td>\n",
       "      <td>JSWSTEEL.NS</td>\n",
       "    </tr>\n",
       "    <tr>\n",
       "      <th>1231</th>\n",
       "      <td>2021-04-08</td>\n",
       "      <td>572.000000</td>\n",
       "      <td>639.000000</td>\n",
       "      <td>563.250000</td>\n",
       "      <td>614.099976</td>\n",
       "      <td>71999548</td>\n",
       "      <td>JSWSTEEL.NS</td>\n",
       "    </tr>\n",
       "  </tbody>\n",
       "</table>\n",
       "</div>"
      ],
      "text/plain": [
       "            Date        Open        High         Low       Close    Volume  \\\n",
       "1227  2021-04-01  470.549988  512.950012  470.000000  508.750000  35736230   \n",
       "1228  2021-04-05  513.500000  522.000000  503.200012  517.500000  29711225   \n",
       "1229  2021-04-06  523.000000  541.299988  520.650024  537.450012  26533367   \n",
       "1230  2021-04-07  539.250000  566.450012  533.200012  562.299988  20024702   \n",
       "1231  2021-04-08  572.000000  639.000000  563.250000  614.099976  71999548   \n",
       "\n",
       "           ticker  \n",
       "1227  JSWSTEEL.NS  \n",
       "1228  JSWSTEEL.NS  \n",
       "1229  JSWSTEEL.NS  \n",
       "1230  JSWSTEEL.NS  \n",
       "1231  JSWSTEEL.NS  "
      ]
     },
     "execution_count": 6,
     "metadata": {},
     "output_type": "execute_result"
    }
   ],
   "source": [
    "st_Data.tail()"
   ]
  },
  {
   "cell_type": "code",
   "execution_count": null,
   "metadata": {},
   "outputs": [],
   "source": []
  }
 ],
 "metadata": {
  "kernelspec": {
   "display_name": "Python 3",
   "language": "python",
   "name": "python3"
  },
  "language_info": {
   "codemirror_mode": {
    "name": "ipython",
    "version": 3
   },
   "file_extension": ".py",
   "mimetype": "text/x-python",
   "name": "python",
   "nbconvert_exporter": "python",
   "pygments_lexer": "ipython3",
   "version": "3.7.0"
  }
 },
 "nbformat": 4,
 "nbformat_minor": 2
}
